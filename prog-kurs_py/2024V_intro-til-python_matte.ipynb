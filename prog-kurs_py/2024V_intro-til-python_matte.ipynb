{
 "cells": [
  {
   "cell_type": "markdown",
   "metadata": {},
   "source": [
    "# Grunnleggende python i matematikk\n",
    "\n",
    "[python](https://www.python.org) er et veldig allsidig programmeringsspråk, som kan brukes til veldig mye forskjellig. Som alle andre programmeringsspråk, er *koden* vi skriver instrukser som en datamaskin forstår og utfører.\n",
    "Husk at en datamaskin gjør *nøyaktig* det instruksene sier, verken mer eller mindre."
   ]
  },
  {
   "cell_type": "markdown",
   "metadata": {},
   "source": [
    "## Python IDE\n",
    "IDE står for *integrated development environment*, og er enkelt sagt et program som både lar oss skrive koden og få datamaskinen til å kjøre den. Ofte brukes også ordet *editor*, selv om de to ikke er helt det samme.\n",
    "\n",
    "\n",
    "Vi skal bruke [Thonny](https://thonny.org) som vårt IDE for å programmere i python. Det er enkelt å bruke for nybegynnere, og har all funksjonaliteten vi trenger for å komme i gang med python."
   ]
  },
  {
   "cell_type": "markdown",
   "metadata": {},
   "source": [
    "## Noe av det første å lære seg: `print`\n",
    "Det første vi skal lære oss er å bruke `print`-funksjonen i python. Den er viktig rett og slett for å kunne *se* resultatet når datamaskinen kjører koden du har skrevet.\n",
    "Skriv denne koden i Thonny, og kjør koden:\n",
    "\n",
    "`print(Jeg lærer meg programmering i Python)`\n",
    "\n",
    "Hva skjer?"
   ]
  },
  {
   "cell_type": "markdown",
   "metadata": {},
   "source": [
    "### Feilmelding (errors)\n",
    "Når du kjører programmet over, så får du en feil - en *error*. I dette tilfellet en `SyntaxError`. Det er fordi det er et ugyldig *argument* i `print`-funksjonen - den vet ikke hva som skal vises/printes.\n",
    "\n",
    "Prøv nå å skrive nesten identisk kode, og se hva som da skjer?"
   ]
  },
  {
   "cell_type": "code",
   "execution_count": 16,
   "metadata": {},
   "outputs": [
    {
     "name": "stdout",
     "output_type": "stream",
     "text": [
      "Jeg lærer meg programmering i Python\n"
     ]
    }
   ],
   "source": [
    "print(\"Jeg lærer meg programmering i Python\")"
   ]
  },
  {
   "cell_type": "markdown",
   "metadata": {},
   "source": [
    "### Datatyper\n",
    "Grunnen til at vi *ikke* får noen feil i det lille programmet (ja, et program kan være så lite som en enkelt linje) over er at `print`-funksjonen nå har et gyldig argument. Du legger kanskje merke til at teksten inni parentesene er skrevet i hermetegn: `\"Jeg lærer meg programmering i Python\"`. Disse hermetegnene betyr at det vi skriver er formatert som tekst, det som i python kalles en `string`, eller bare `str`. Dette er en *datatype* som `print`-funksjonen forstår, og som da vil skrives til skjermen (printes).\n",
    "\n",
    "Det er hovedsaklig to andre datatyper som vi vil trenge å kunne noe om nå i begynnelsen, og det er tall. Python har to typer for tall:\n",
    "- `int` for hele tall (*int* står for *integer*)\n",
    "- `float` for desimaltall (**OBS** I python er det punktum som brukes som desimalkomma, feks `3.14` )\n",
    "\n",
    "`print`-funksjonen har både hele tall (`int`) og desimaltall (`float`) som gyldige argumenter.\n",
    "\n",
    "Skriv koden under, og kjør programmet. Legg merke til hva som er `str` og hva som er tall. Får du noen feilmeldinger?"
   ]
  },
  {
   "cell_type": "code",
   "execution_count": 17,
   "metadata": {},
   "outputs": [
    {
     "name": "stdout",
     "output_type": "stream",
     "text": [
      "Svaret på alt er\n",
      "42\n",
      "eller\n",
      "3.14\n"
     ]
    }
   ],
   "source": [
    "print(\"Svaret på alt er\")\n",
    "print(42)\n",
    "print(\"eller\")\n",
    "print(3.14)\n"
   ]
  },
  {
   "cell_type": "markdown",
   "metadata": {},
   "source": [
    "### Printe på linje samme linje\n",
    "I programmet over, så skriver bruker vi `print` fire ganger til å skrive beskjeden til skjerm. Av og til er det praktisk å kunne skrive alt på en linje. Det er flere måter å løse dette på i python. Vi kan bruke komma (`,`), eller en metode som kalles `f-print`. Begge metodene vises i koden under. Fremover kommer vi til å bruke metoden med komma mest."
   ]
  },
  {
   "cell_type": "code",
   "execution_count": 18,
   "metadata": {},
   "outputs": [
    {
     "name": "stdout",
     "output_type": "stream",
     "text": [
      "Svaret på alt er 42 eller 3.14\n",
      "Svaret på alt er 42 eller 3.14\n"
     ]
    }
   ],
   "source": [
    "print(\"Svaret på alt er\", 42, \"eller\", 3.14)\n",
    "print(f\"Svaret på alt er {42} eller {3.14}\")"
   ]
  },
  {
   "cell_type": "markdown",
   "metadata": {},
   "source": [
    "## Variabler\n",
    "En *variabel* i python handler enkelt sagt om å gi *objekter* navn. Et objekt er så og så *alt* i python. Så langt har vi lært om tekst (`string`) og tall (`int` eller `float`), som alle er objekter i python. Det er stort sett *alltid* nyttig å gi objektene våre navn i form av en variabel.\n",
    "\n",
    "**OBS**: Legg merke til at vi bruker `=` for å lage en variabel. `=` i python er IKKE det samme som i matematikk. i python kan vi si at `=` betyr *er*, og brukes altså til å gi bestemme hva en variabel skal være.\n",
    "\n",
    "I matematikk betyr `=` *er lik*, og handler om at noe skal ha lik verdi.\n",
    "\n",
    "I koden under skriver vi vårt forrige program på nytt, men vi har gitt noen objekter navn. I tillegg skriver vi *kommentarer* i koden. En kommentar starter med en hashtag, `#`, og er tekst som *ikke* vil bli behandlet som kode. Dette er nyttig for å kunne komme med forklaringer til koden, i selve koden.\n",
    "\n",
    "Skriv koden og kjør den. Har du gjort det riktig skal du ha fått samme resultat som tidligere."
   ]
  },
  {
   "cell_type": "code",
   "execution_count": 19,
   "metadata": {},
   "outputs": [
    {
     "name": "stdout",
     "output_type": "stream",
     "text": [
      "Svaret på alt er 42 eller 3.14\n"
     ]
    }
   ],
   "source": [
    "svar = \"Svaret på alt er\" # en variabel som heter svar og er av typen string. svar ER nå stringen \"svaret på alt\"\n",
    "tall_1 = 42 # tall_1 er av typen int. tall_1 ER nå heltallet 42 Legg merke til at vi IKKE kan ha mellomrom i navnet på variabler\n",
    "tall_2 = 3.14 # tall_2 er av typen float. tall_2 ER nå desimaltallet 3.14\n",
    "\n",
    "print(svar, tall_1, \"eller\", tall_2)"
   ]
  },
  {
   "cell_type": "markdown",
   "metadata": {},
   "source": [
    "Det kan virke som dette er en unødvendig komplisert måte skrive koden for å få ønsket resultat, og for akkurat dette lille programmet er det nok det.\n",
    "\n",
    "Når vi etterhvert skal begynne å gjøre litt matematikk, så er det imidlertid *veldig* nyttig å kunne bruke variabler i python. For å lære seg grunnleggende bruk, så kommer vi likevel til å fortsette litt med det samme programmet vårt.\n",
    "\n",
    "Variabler kan *endres* i programmene vi lager. Det er mange måter å endre variabler på. Man kan feks gi de helt nye verdier, eller man kan oppdatere verdiene med *operasjoner*.\n",
    "\n",
    "Eksempler på begge vises i koden under. Skriv koden og kjør den. Hvordan funker `+` på de ulike datatypene? Hva skjer med desimaltallet når du legger til 1, og printer det?"
   ]
  },
  {
   "cell_type": "code",
   "execution_count": 23,
   "metadata": {},
   "outputs": [
    {
     "name": "stdout",
     "output_type": "stream",
     "text": [
      "Svaret på alt er 42 eller 3.14\n",
      "Svaret på alt er sjokolade og tallet 42 eller 4.140000000000001\n",
      "På en skala fra 1 til 100 er matte 1234 eller 99.9\n"
     ]
    }
   ],
   "source": [
    "svar = \"Svaret på alt er\"\n",
    "tall_1 = 42 \n",
    "tall_2 = 3.14 \n",
    "print(svar, tall_1, \"eller\", tall_2)\n",
    "\n",
    "# vi oppdaterer noen variabler\n",
    "svar = svar + \" sjokolade og tallet\" # svar ER nå det svar VAR, lagt til strengen \"sjokolade og tallet\"\n",
    "tall_2 = tall_2 + 1 # tall_2 ER nå det tall_2 VAR, lagt til 1\n",
    "print(svar, tall_1, \"eller\", tall_2)\n",
    "\n",
    "# vi gir variablene helt nye verdier\n",
    "svar = \"På en skala fra 1 til 100 er matte\"\n",
    "tall_1 = 1234\n",
    "tall_2 = 99.9\n",
    "print(svar, tall_1, \"eller\", tall_2)"
   ]
  },
  {
   "cell_type": "markdown",
   "metadata": {},
   "source": [
    "### Oppgave 1\n",
    "Lag et program som har to variabler, `navn` og `alder`.\n",
    "\n",
    "`navn` skal være navnet ditt som en `string`\n",
    "\n",
    "`alder` skal være alderen din som et heltall (`int`)\n",
    "\n",
    "Programmet skal printe navnet ditt og alderen din, i en setning.\n"
   ]
  },
  {
   "cell_type": "code",
   "execution_count": 26,
   "metadata": {},
   "outputs": [
    {
     "name": "stdout",
     "output_type": "stream",
     "text": [
      "Hei! Jeg heter Homer Simpson og er 43 år gammel.\n"
     ]
    }
   ],
   "source": [
    "navn = \"Homer Simpson\"\n",
    "alder = 43\n",
    "\n",
    "print(\"Hei! Jeg heter\", navn, \"og er\", alder, \"år gammel.\")"
   ]
  }
 ],
 "metadata": {
  "kernelspec": {
   "display_name": "Python 3",
   "language": "python",
   "name": "python3"
  },
  "language_info": {
   "codemirror_mode": {
    "name": "ipython",
    "version": 3
   },
   "file_extension": ".py",
   "mimetype": "text/x-python",
   "name": "python",
   "nbconvert_exporter": "python",
   "pygments_lexer": "ipython3",
   "version": "3.10.0"
  }
 },
 "nbformat": 4,
 "nbformat_minor": 2
}
